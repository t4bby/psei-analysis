{
  "cells": [
    {
      "cell_type": "code",
      "source": "import cfscrape\nfrom datetime import datetime\nimport csv",
      "metadata": {
        "cell_id": "7d303949a0b64bef8de45a78c2661adc",
        "collapsed": true,
        "ExecuteTime": {
          "end_time": "2023-06-02T08:55:24.061625200Z",
          "start_time": "2023-06-02T08:55:24.048057900Z"
        },
        "deepnote_cell_type": "code"
      },
      "outputs": [],
      "execution_count": 26
    },
    {
      "cell_type": "code",
      "source": "# Inflation\n# https://sbcharts.investing.com/events_charts/us/1075.json",
      "metadata": {
        "cell_id": "9085ae7ccbbf498c82bd06620becff91",
        "collapsed": false,
        "ExecuteTime": {
          "end_time": "2023-06-02T08:44:19.177476900Z",
          "start_time": "2023-06-02T08:44:19.170954300Z"
        },
        "deepnote_cell_type": "code"
      },
      "outputs": [],
      "execution_count": 2
    },
    {
      "cell_type": "code",
      "source": "# GDP\n# https://sbcharts.investing.com/events_charts/us/1076.json",
      "metadata": {
        "cell_id": "47da1a58fe824a10a97f9e043c7793e0",
        "collapsed": false,
        "ExecuteTime": {
          "end_time": "2023-06-02T08:44:19.207837200Z",
          "start_time": "2023-06-02T08:44:19.178475800Z"
        },
        "deepnote_cell_type": "code"
      },
      "outputs": [],
      "execution_count": 3
    },
    {
      "cell_type": "code",
      "source": "scraper = cfscrape.create_scraper()\ngdp_json = scraper.get('https://sbcharts.investing.com/events_charts/us/1076.json').json()\ninflation_json = scraper.get('https://sbcharts.investing.com/events_charts/us/1075.json').json()",
      "metadata": {
        "cell_id": "f9009b6d07954e259314bf3eb9570bab",
        "collapsed": false,
        "ExecuteTime": {
          "end_time": "2023-06-02T08:44:20.560532900Z",
          "start_time": "2023-06-02T08:44:19.193983900Z"
        },
        "deepnote_cell_type": "code"
      },
      "outputs": [],
      "execution_count": 4
    },
    {
      "cell_type": "code",
      "source": "# clean gdp\ngdp = []\nfor i in gdp_json['data']:\n    dt_object = datetime.fromtimestamp(i[0]/1000)\n    if dt_object.year >= 2014:\n        temp = {\n            'Date': dt_object.strftime('%Y-%m-%d'),\n            'GDP': i[1]\n        }\n        gdp.append(temp)\ngdp",
      "metadata": {
        "cell_id": "b4732f0e5429427c8036a2a1c1f11165",
        "collapsed": false,
        "ExecuteTime": {
          "end_time": "2023-06-02T09:14:07.060266500Z",
          "start_time": "2023-06-02T09:14:07.034412600Z"
        },
        "deepnote_cell_type": "code"
      },
      "outputs": [
        {
          "data": {
            "text/plain": "[{'Date': '2014-01-30', 'GDP': 1.5},\n {'Date': '2014-05-29', 'GDP': 1.4},\n {'Date': '2014-08-28', 'GDP': 1.9},\n {'Date': '2014-11-27', 'GDP': 0.7},\n {'Date': '2015-01-29', 'GDP': 2.5},\n {'Date': '2015-05-28', 'GDP': 0.4},\n {'Date': '2015-08-27', 'GDP': 2},\n {'Date': '2015-11-26', 'GDP': 1.4},\n {'Date': '2016-01-28', 'GDP': 2.1},\n {'Date': '2016-05-19', 'GDP': 1.3},\n {'Date': '2016-08-18', 'GDP': 1.8},\n {'Date': '2016-11-17', 'GDP': 1.2},\n {'Date': '2017-01-26', 'GDP': 1.8},\n {'Date': '2017-05-18', 'GDP': 1.3},\n {'Date': '2017-08-17', 'GDP': 2},\n {'Date': '2017-11-16', 'GDP': 1.7},\n {'Date': '2018-01-23', 'GDP': 1.5},\n {'Date': '2018-05-10', 'GDP': 1.5},\n {'Date': '2018-08-09', 'GDP': 1.5},\n {'Date': '2018-11-08', 'GDP': 1.4},\n {'Date': '2019-01-24', 'GDP': 1.5},\n {'Date': '2019-05-09', 'GDP': 1},\n {'Date': '2019-08-08', 'GDP': 1.4},\n {'Date': '2019-11-07', 'GDP': 1.6},\n {'Date': '2020-01-23', 'GDP': 2.2},\n {'Date': '2020-05-07', 'GDP': -5.1},\n {'Date': '2020-08-06', 'GDP': -15.2},\n {'Date': '2020-11-10', 'GDP': 8},\n {'Date': '2021-01-28', 'GDP': 3.8},\n {'Date': '2021-05-11', 'GDP': 0.3},\n {'Date': '2021-08-10', 'GDP': -1.3},\n {'Date': '2021-11-09', 'GDP': 3.1},\n {'Date': '2022-01-27', 'GDP': 3.5},\n {'Date': '2022-05-12', 'GDP': 1.9},\n {'Date': '2022-08-09', 'GDP': -0.1},\n {'Date': '2022-11-10', 'GDP': 3.3},\n {'Date': '2023-01-26', 'GDP': 2},\n {'Date': '2023-05-11', 'GDP': 1.1}]"
          },
          "execution_count": 54,
          "metadata": {},
          "output_type": "execute_result"
        }
      ],
      "execution_count": 54
    },
    {
      "cell_type": "code",
      "source": "# clean inflation\ninflation = []\nfor i in inflation_json['data']:\n    dt_object = datetime.fromtimestamp(i[0]/1000)\n    if dt_object.year >= 2014:\n        temp = {\n            'Date': dt_object.strftime('%Y-%m-%d'),\n            'Inflation': i[1]\n        }\n        inflation.append(temp)\ninflation",
      "metadata": {
        "cell_id": "09240f0888a54784bf2cbcd70bf8e06e",
        "collapsed": false,
        "ExecuteTime": {
          "end_time": "2023-06-02T09:14:07.873128900Z",
          "start_time": "2023-06-02T09:14:07.848034100Z"
        },
        "deepnote_cell_type": "code"
      },
      "outputs": [
        {
          "data": {
            "text/plain": "[{'Date': '2014-01-01', 'Inflation': 4.1},\n {'Date': '2014-02-01', 'Inflation': 4.2},\n {'Date': '2014-03-01', 'Inflation': 4.1},\n {'Date': '2014-04-04', 'Inflation': 3.9},\n {'Date': '2014-05-06', 'Inflation': 4.1},\n {'Date': '2014-06-05', 'Inflation': 4.5},\n {'Date': '2014-07-04', 'Inflation': 4.4},\n {'Date': '2014-08-05', 'Inflation': 4.9},\n {'Date': '2014-09-05', 'Inflation': 4.9},\n {'Date': '2014-10-08', 'Inflation': 4.4},\n {'Date': '2014-11-05', 'Inflation': 4.3},\n {'Date': '2014-12-05', 'Inflation': 3.7},\n {'Date': '2015-01-06', 'Inflation': 2.7},\n {'Date': '2015-02-05', 'Inflation': 2.4},\n {'Date': '2015-03-05', 'Inflation': 2.5},\n {'Date': '2015-04-07', 'Inflation': 2.4},\n {'Date': '2015-05-05', 'Inflation': 2.2},\n {'Date': '2015-06-05', 'Inflation': 1.6},\n {'Date': '2015-07-07', 'Inflation': 1.2},\n {'Date': '2015-08-05', 'Inflation': 0.8},\n {'Date': '2015-09-04', 'Inflation': 0.6},\n {'Date': '2015-10-06', 'Inflation': 0.4},\n {'Date': '2015-11-05', 'Inflation': 0.4},\n {'Date': '2015-12-04', 'Inflation': 1.1},\n {'Date': '2016-01-05', 'Inflation': 1.5},\n {'Date': '2016-02-05', 'Inflation': 1.3},\n {'Date': '2016-03-04', 'Inflation': 0.9},\n {'Date': '2016-04-05', 'Inflation': 1.1},\n {'Date': '2016-05-05', 'Inflation': 1.1},\n {'Date': '2016-06-07', 'Inflation': 1.6},\n {'Date': '2016-07-05', 'Inflation': 1.9},\n {'Date': '2016-08-05', 'Inflation': 1.9},\n {'Date': '2016-09-06', 'Inflation': 1.8},\n {'Date': '2016-10-05', 'Inflation': 2.3},\n {'Date': '2016-11-04', 'Inflation': 2.3},\n {'Date': '2016-12-06', 'Inflation': 2.5},\n {'Date': '2017-01-05', 'Inflation': 2.6},\n {'Date': '2017-02-07', 'Inflation': 2.7},\n {'Date': '2017-03-07', 'Inflation': 3.3},\n {'Date': '2017-04-05', 'Inflation': 3.4},\n {'Date': '2017-05-05', 'Inflation': 3.4},\n {'Date': '2017-06-06', 'Inflation': 3.1},\n {'Date': '2017-07-05', 'Inflation': 2.7},\n {'Date': '2017-08-04', 'Inflation': 2.8},\n {'Date': '2017-09-05', 'Inflation': 3.1},\n {'Date': '2017-10-05', 'Inflation': 3.4},\n {'Date': '2017-11-07', 'Inflation': 3.5},\n {'Date': '2017-12-05', 'Inflation': 3.3},\n {'Date': '2018-01-05', 'Inflation': 3.3},\n {'Date': '2018-02-06', 'Inflation': 4},\n {'Date': '2018-03-06', 'Inflation': 3.8},\n {'Date': '2018-04-05', 'Inflation': 4.3},\n {'Date': '2018-05-04', 'Inflation': 4.5},\n {'Date': '2018-06-05', 'Inflation': 4.6},\n {'Date': '2018-07-05', 'Inflation': 5.2},\n {'Date': '2018-08-07', 'Inflation': 5.7},\n {'Date': '2018-09-05', 'Inflation': 6.4},\n {'Date': '2018-10-05', 'Inflation': 6.7},\n {'Date': '2018-11-06', 'Inflation': 6.7},\n {'Date': '2018-12-05', 'Inflation': 6},\n {'Date': '2019-01-04', 'Inflation': 5.1},\n {'Date': '2019-02-05', 'Inflation': 4.4},\n {'Date': '2019-03-05', 'Inflation': 3.8},\n {'Date': '2019-04-05', 'Inflation': 3.3},\n {'Date': '2019-05-07', 'Inflation': 3},\n {'Date': '2019-06-05', 'Inflation': 3.2},\n {'Date': '2019-07-05', 'Inflation': 2.7},\n {'Date': '2019-08-06', 'Inflation': 2.4},\n {'Date': '2019-09-05', 'Inflation': 1.7},\n {'Date': '2019-10-04', 'Inflation': 0.9},\n {'Date': '2019-11-05', 'Inflation': 0.8},\n {'Date': '2019-12-05', 'Inflation': 1.3},\n {'Date': '2020-01-07', 'Inflation': 2.5},\n {'Date': '2020-02-05', 'Inflation': 2.9},\n {'Date': '2020-03-05', 'Inflation': 2.6},\n {'Date': '2020-04-07', 'Inflation': 2.5},\n {'Date': '2020-05-05', 'Inflation': 2.2},\n {'Date': '2020-06-05', 'Inflation': 2.1},\n {'Date': '2020-07-07', 'Inflation': 2.5},\n {'Date': '2020-08-05', 'Inflation': 2.7},\n {'Date': '2020-09-04', 'Inflation': 2.4},\n {'Date': '2020-10-06', 'Inflation': 2.3},\n {'Date': '2020-11-05', 'Inflation': 2.5},\n {'Date': '2020-12-04', 'Inflation': 3.3},\n {'Date': '2021-01-05', 'Inflation': 3.5},\n {'Date': '2021-02-05', 'Inflation': 4.2},\n {'Date': '2021-03-05', 'Inflation': 4.7},\n {'Date': '2021-04-06', 'Inflation': 4.5},\n {'Date': '2021-05-05', 'Inflation': 4.5},\n {'Date': '2021-06-04', 'Inflation': 4.5},\n {'Date': '2021-07-06', 'Inflation': 4.1},\n {'Date': '2021-08-05', 'Inflation': 4},\n {'Date': '2021-09-07', 'Inflation': 4.9},\n {'Date': '2021-10-05', 'Inflation': 4.8},\n {'Date': '2021-11-05', 'Inflation': 4.6},\n {'Date': '2021-12-07', 'Inflation': 4.2},\n {'Date': '2022-01-05', 'Inflation': 3.2},\n {'Date': '2022-02-04', 'Inflation': 3},\n {'Date': '2022-03-04', 'Inflation': 3},\n {'Date': '2022-04-05', 'Inflation': 4},\n {'Date': '2022-05-05', 'Inflation': 4.9},\n {'Date': '2022-06-07', 'Inflation': 5.4},\n {'Date': '2022-07-05', 'Inflation': 6.1},\n {'Date': '2022-08-05', 'Inflation': 6.4},\n {'Date': '2022-09-06', 'Inflation': 6.3},\n {'Date': '2022-10-05', 'Inflation': 6.9},\n {'Date': '2022-11-04', 'Inflation': 7.7},\n {'Date': '2022-12-06', 'Inflation': 8},\n {'Date': '2023-01-05', 'Inflation': 8.1},\n {'Date': '2023-02-07', 'Inflation': 8.7},\n {'Date': '2023-03-07', 'Inflation': 8.6},\n {'Date': '2023-04-05', 'Inflation': 7.6},\n {'Date': '2023-05-05', 'Inflation': 6.6}]"
          },
          "execution_count": 55,
          "metadata": {},
          "output_type": "execute_result"
        }
      ],
      "execution_count": 55
    },
    {
      "cell_type": "code",
      "source": "import pandas as pd",
      "metadata": {
        "cell_id": "417a5699bb7a4da1b8b14f41a60e90f7",
        "collapsed": false,
        "ExecuteTime": {
          "end_time": "2023-06-02T09:14:08.739289600Z",
          "start_time": "2023-06-02T09:14:08.728721300Z"
        },
        "deepnote_cell_type": "code"
      },
      "outputs": [],
      "execution_count": 56
    },
    {
      "cell_type": "code",
      "source": "gdp_df = pd.DataFrame(gdp)\ngdp_df.set_index(\"Date\", inplace=True)\ngdp_df.to_csv('gdp.csv')",
      "metadata": {
        "cell_id": "110d0463cd824693b1c6de3e9f3d507f",
        "collapsed": false,
        "ExecuteTime": {
          "end_time": "2023-06-02T09:14:09.255519400Z",
          "start_time": "2023-06-02T09:14:09.191795900Z"
        },
        "deepnote_cell_type": "code"
      },
      "outputs": [],
      "execution_count": 57
    },
    {
      "cell_type": "code",
      "source": "inflation_df = pd.DataFrame(inflation)\ninflation_df.set_index(\"Date\", inplace=True)\ninflation_df.to_csv('inflation.csv')",
      "metadata": {
        "cell_id": "5cfc618f7ee543fd9fa5f20cbf965f6d",
        "collapsed": false,
        "ExecuteTime": {
          "end_time": "2023-06-02T09:14:10.425375600Z",
          "start_time": "2023-06-02T09:14:10.414347100Z"
        },
        "deepnote_cell_type": "code"
      },
      "outputs": [],
      "execution_count": 58
    },
    {
      "cell_type": "code",
      "source": "inflation_df = pd.DataFrame(inflation)\ninflation_df['Date'] = pd.to_datetime(inflation_df['Date'], format='%Y-%m-%d')\ngdp_df = pd.DataFrame(gdp)\ngdp_df['Date'] = pd.to_datetime(gdp_df['Date'], format='%Y-%m-%d')\n\nres = pd.merge(inflation_df.assign(grouper=inflation_df['Date'].dt.to_period('M')),\n                gdp_df.assign(grouper=gdp_df['Date'].dt.to_period('M')),\n               on='grouper', how='left').drop('grouper', axis=1).drop('Date_y', axis=1)\n\n\nres.rename(columns = {'Date_x':'Date'}, inplace = True)\nres.set_index(\"Date\", inplace=True)\nres = res.interpolate(method='ffill')\nres['GDP'] = res['GDP'].round(2)\nres.to_csv('inflation_gdp.csv')\nres",
      "metadata": {
        "cell_id": "adb235f1da4f462390c53ec576864caa",
        "collapsed": false,
        "ExecuteTime": {
          "end_time": "2023-06-02T09:38:29.839256200Z",
          "start_time": "2023-06-02T09:38:29.784503600Z"
        },
        "deepnote_cell_type": "code"
      },
      "outputs": [
        {
          "data": {
            "text/plain": "            Inflation  GDP\nDate                      \n2014-01-01        4.1  1.5\n2014-02-01        4.2  1.5\n2014-03-01        4.1  1.5\n2014-04-04        3.9  1.5\n2014-05-06        4.1  1.4\n...               ...  ...\n2023-01-05        8.1  2.0\n2023-02-07        8.7  2.0\n2023-03-07        8.6  2.0\n2023-04-05        7.6  2.0\n2023-05-05        6.6  1.1\n\n[113 rows x 2 columns]",
            "text/html": "<div>\n<style scoped>\n    .dataframe tbody tr th:only-of-type {\n        vertical-align: middle;\n    }\n\n    .dataframe tbody tr th {\n        vertical-align: top;\n    }\n\n    .dataframe thead th {\n        text-align: right;\n    }\n</style>\n<table border=\"1\" class=\"dataframe\">\n  <thead>\n    <tr style=\"text-align: right;\">\n      <th></th>\n      <th>Inflation</th>\n      <th>GDP</th>\n    </tr>\n    <tr>\n      <th>Date</th>\n      <th></th>\n      <th></th>\n    </tr>\n  </thead>\n  <tbody>\n    <tr>\n      <th>2014-01-01</th>\n      <td>4.1</td>\n      <td>1.5</td>\n    </tr>\n    <tr>\n      <th>2014-02-01</th>\n      <td>4.2</td>\n      <td>1.5</td>\n    </tr>\n    <tr>\n      <th>2014-03-01</th>\n      <td>4.1</td>\n      <td>1.5</td>\n    </tr>\n    <tr>\n      <th>2014-04-04</th>\n      <td>3.9</td>\n      <td>1.5</td>\n    </tr>\n    <tr>\n      <th>2014-05-06</th>\n      <td>4.1</td>\n      <td>1.4</td>\n    </tr>\n    <tr>\n      <th>...</th>\n      <td>...</td>\n      <td>...</td>\n    </tr>\n    <tr>\n      <th>2023-01-05</th>\n      <td>8.1</td>\n      <td>2.0</td>\n    </tr>\n    <tr>\n      <th>2023-02-07</th>\n      <td>8.7</td>\n      <td>2.0</td>\n    </tr>\n    <tr>\n      <th>2023-03-07</th>\n      <td>8.6</td>\n      <td>2.0</td>\n    </tr>\n    <tr>\n      <th>2023-04-05</th>\n      <td>7.6</td>\n      <td>2.0</td>\n    </tr>\n    <tr>\n      <th>2023-05-05</th>\n      <td>6.6</td>\n      <td>1.1</td>\n    </tr>\n  </tbody>\n</table>\n<p>113 rows × 2 columns</p>\n</div>"
          },
          "execution_count": 103,
          "metadata": {},
          "output_type": "execute_result"
        }
      ],
      "execution_count": 103
    },
    {
      "cell_type": "code",
      "source": "",
      "metadata": {
        "cell_id": "ef0113a0701146399c702a03b945f7fe",
        "collapsed": false,
        "deepnote_cell_type": "code"
      },
      "outputs": [],
      "execution_count": null
    },
    {
      "cell_type": "markdown",
      "source": "<a style='text-decoration:none;line-height:16px;display:flex;color:#5B5B62;padding:10px;justify-content:end;' href='https://deepnote.com?utm_source=created-in-deepnote-cell&projectId=104f152a-ece5-47f4-a4d4-d9ea9c0d19d6' target=\"_blank\">\n<img alt='Created in deepnote.com' style='display:inline;max-height:16px;margin:0px;margin-right:7.5px;' src='data:image/svg+xml;base64,PD94bWwgdmVyc2lvbj0iMS4wIiBlbmNvZGluZz0iVVRGLTgiPz4KPHN2ZyB3aWR0aD0iODBweCIgaGVpZ2h0PSI4MHB4IiB2aWV3Qm94PSIwIDAgODAgODAiIHZlcnNpb249IjEuMSIgeG1sbnM9Imh0dHA6Ly93d3cudzMub3JnLzIwMDAvc3ZnIiB4bWxuczp4bGluaz0iaHR0cDovL3d3dy53My5vcmcvMTk5OS94bGluayI+CiAgICA8IS0tIEdlbmVyYXRvcjogU2tldGNoIDU0LjEgKDc2NDkwKSAtIGh0dHBzOi8vc2tldGNoYXBwLmNvbSAtLT4KICAgIDx0aXRsZT5Hcm91cCAzPC90aXRsZT4KICAgIDxkZXNjPkNyZWF0ZWQgd2l0aCBTa2V0Y2guPC9kZXNjPgogICAgPGcgaWQ9IkxhbmRpbmciIHN0cm9rZT0ibm9uZSIgc3Ryb2tlLXdpZHRoPSIxIiBmaWxsPSJub25lIiBmaWxsLXJ1bGU9ImV2ZW5vZGQiPgogICAgICAgIDxnIGlkPSJBcnRib2FyZCIgdHJhbnNmb3JtPSJ0cmFuc2xhdGUoLTEyMzUuMDAwMDAwLCAtNzkuMDAwMDAwKSI+CiAgICAgICAgICAgIDxnIGlkPSJHcm91cC0zIiB0cmFuc2Zvcm09InRyYW5zbGF0ZSgxMjM1LjAwMDAwMCwgNzkuMDAwMDAwKSI+CiAgICAgICAgICAgICAgICA8cG9seWdvbiBpZD0iUGF0aC0yMCIgZmlsbD0iIzAyNjVCNCIgcG9pbnRzPSIyLjM3NjIzNzYyIDgwIDM4LjA0NzY2NjcgODAgNTcuODIxNzgyMiA3My44MDU3NTkyIDU3LjgyMTc4MjIgMzIuNzU5MjczOSAzOS4xNDAyMjc4IDMxLjY4MzE2ODMiPjwvcG9seWdvbj4KICAgICAgICAgICAgICAgIDxwYXRoIGQ9Ik0zNS4wMDc3MTgsODAgQzQyLjkwNjIwMDcsNzYuNDU0OTM1OCA0Ny41NjQ5MTY3LDcxLjU0MjI2NzEgNDguOTgzODY2LDY1LjI2MTk5MzkgQzUxLjExMjI4OTksNTUuODQxNTg0MiA0MS42NzcxNzk1LDQ5LjIxMjIyODQgMjUuNjIzOTg0Niw0OS4yMTIyMjg0IEMyNS40ODQ5Mjg5LDQ5LjEyNjg0NDggMjkuODI2MTI5Niw0My4yODM4MjQ4IDM4LjY0NzU4NjksMzEuNjgzMTY4MyBMNzIuODcxMjg3MSwzMi41NTQ0MjUgTDY1LjI4MDk3Myw2Ny42NzYzNDIxIEw1MS4xMTIyODk5LDc3LjM3NjE0NCBMMzUuMDA3NzE4LDgwIFoiIGlkPSJQYXRoLTIyIiBmaWxsPSIjMDAyODY4Ij48L3BhdGg+CiAgICAgICAgICAgICAgICA8cGF0aCBkPSJNMCwzNy43MzA0NDA1IEwyNy4xMTQ1MzcsMC4yNTcxMTE0MzYgQzYyLjM3MTUxMjMsLTEuOTkwNzE3MDEgODAsMTAuNTAwMzkyNyA4MCwzNy43MzA0NDA1IEM4MCw2NC45NjA0ODgyIDY0Ljc3NjUwMzgsNzkuMDUwMzQxNCAzNC4zMjk1MTEzLDgwIEM0Ny4wNTUzNDg5LDc3LjU2NzA4MDggNTMuNDE4MjY3Nyw3MC4zMTM2MTAzIDUzLjQxODI2NzcsNTguMjM5NTg4NSBDNTMuNDE4MjY3Nyw0MC4xMjg1NTU3IDM2LjMwMzk1NDQsMzcuNzMwNDQwNSAyNS4yMjc0MTcsMzcuNzMwNDQwNSBDMTcuODQzMDU4NiwzNy43MzA0NDA1IDkuNDMzOTE5NjYsMzcuNzMwNDQwNSAwLDM3LjczMDQ0MDUgWiIgaWQ9IlBhdGgtMTkiIGZpbGw9IiMzNzkzRUYiPjwvcGF0aD4KICAgICAgICAgICAgPC9nPgogICAgICAgIDwvZz4KICAgIDwvZz4KPC9zdmc+' > </img>\nCreated in <span style='font-weight:600;margin-left:4px;'>Deepnote</span></a>",
      "metadata": {
        "created_in_deepnote_cell": true,
        "deepnote_cell_type": "markdown"
      }
    }
  ],
  "nbformat": 4,
  "nbformat_minor": 0,
  "metadata": {
    "kernelspec": {
      "display_name": "Python 3",
      "language": "python",
      "name": "python3"
    },
    "language_info": {
      "codemirror_mode": {
        "name": "ipython",
        "version": 2
      },
      "file_extension": ".py",
      "mimetype": "text/x-python",
      "name": "python",
      "nbconvert_exporter": "python",
      "pygments_lexer": "ipython2",
      "version": "2.7.6"
    },
    "deepnote": {},
    "deepnote_notebook_id": "f263de430c874837b56181ef58a909e5",
    "deepnote_execution_queue": []
  }
}